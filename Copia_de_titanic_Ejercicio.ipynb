{
  "nbformat": 4,
  "nbformat_minor": 0,
  "metadata": {
    "colab": {
      "provenance": [],
      "private_outputs": true
    },
    "kernelspec": {
      "name": "python3",
      "display_name": "Python 3"
    }
  },
  "cells": [
    {
      "cell_type": "markdown",
      "source": [
        "Estudiante: Raquel Mendoza Guillén. "
      ],
      "metadata": {
        "id": "aMA8pj5MBXYW"
      }
    },
    {
      "cell_type": "markdown",
      "metadata": {
        "id": "SokvQ-3OsEL4"
      },
      "source": [
        "# ¿Que influyó en las muertes de pasajeros del Titanic?\n",
        " ¿La clase de pasaje? ¿La edad? ¿El costo del pasaje?"
      ]
    },
    {
      "cell_type": "markdown",
      "metadata": {
        "id": "l3A2XWchso3t"
      },
      "source": [
        "# Copie este notebook en su cuenta junto con los datos **titanic.csv** \n",
        "moodle de clase"
      ]
    },
    {
      "cell_type": "code",
      "metadata": {
        "id": "3SEr3GNp_h9U"
      },
      "source": [
        "%cd /content/drive/Mi/sesion5/Arboles"
      ],
      "execution_count": null,
      "outputs": []
    },
    {
      "cell_type": "markdown",
      "metadata": {
        "id": "l-er_x1ytSqz"
      },
      "source": [
        "## Utilice estas librerías"
      ]
    },
    {
      "cell_type": "code",
      "metadata": {
        "id": "CQdOcbm1_AHX"
      },
      "source": [
        "import pandas as pd\n",
        "import numpy as np\n",
        "from sklearn import tree\n",
        "from sklearn.tree import DecisionTreeClassifier\n",
        "from sklearn.tree import export_text\n",
        "import graphviz"
      ],
      "execution_count": null,
      "outputs": []
    },
    {
      "cell_type": "markdown",
      "metadata": {
        "id": "MJdFs5hZtjnT"
      },
      "source": [
        "## Lea el fichero de datos en un DataFrame de pandas **datos**"
      ]
    },
    {
      "cell_type": "markdown",
      "source": [
        "Previamente, hemos cargado el archivo csv con los datos del Titanic en el Colab."
      ],
      "metadata": {
        "id": "IWR9KU6UBjwI"
      }
    },
    {
      "cell_type": "code",
      "metadata": {
        "id": "eGY2VZzOATsD"
      },
      "source": [
        "datos=pd.read_csv('titanic.csv')\n",
        "datos.head()"
      ],
      "execution_count": null,
      "outputs": []
    },
    {
      "cell_type": "markdown",
      "metadata": {
        "id": "2E65IGRGtzWQ"
      },
      "source": [
        "## Investigue si hay datos erróneos o vacios con valor **Nan** y elimínelos"
      ]
    },
    {
      "cell_type": "markdown",
      "source": [
        "La búsqueda de los valores erróneos o perdidos la hacemos con la función dropna().\n",
        "Esta función, a su vez, elimina esos valores de nuestro conjunto de datos. \n",
        "Con head() le pedimos que nos muestre las primeras observaciones de nuestro conjunto de datos. "
      ],
      "metadata": {
        "id": "QDIQlRHRByf4"
      }
    },
    {
      "cell_type": "code",
      "metadata": {
        "id": "ZHNqhdb2AiKk"
      },
      "source": [
        "X=datos[['Survived','Pclass','Age','Fare']].dropna()\n",
        "X.head()"
      ],
      "execution_count": null,
      "outputs": []
    },
    {
      "cell_type": "markdown",
      "metadata": {
        "id": "Sd_BVB7DuGK0"
      },
      "source": [
        "## Con los datos límpios cree el conjunto de datos de entrenamiento\n",
        "- **X** con las columnas 'Pclass','Age' y 'Fare'\n",
        "- **y** con la columna 'Survived'"
      ]
    },
    {
      "cell_type": "code",
      "metadata": {
        "id": "_6s3KsPRu3_M"
      },
      "source": [
        "y=X['Survived']\n",
        "X=X.drop(['Survived'],axis=1) "
      ],
      "execution_count": null,
      "outputs": []
    },
    {
      "cell_type": "markdown",
      "metadata": {
        "id": "Gkl7D6ALvM2U"
      },
      "source": [
        "## Cree el árbol de clasificación **Ad**"
      ]
    },
    {
      "cell_type": "markdown",
      "source": [
        "Para poder construir el árbol de clasificación, tenemos que especificar el criterio con el que queremos construirlo. En este caso, lo haremos mediante el método de Gini.\n",
        "A su vez, queremos construir un árbol de, como máximo, cinco niveles (de profundidad igual a cinco). Por eso usamos el código max_depth=5. "
      ],
      "metadata": {
        "id": "M2ZOAITQCXnE"
      }
    },
    {
      "cell_type": "code",
      "metadata": {
        "id": "gqPAB36GBAAU"
      },
      "source": [
        "from sklearn.tree import DecisionTreeClassifier\n",
        "from sklearn import tree\n",
        "\n",
        "Ad=DecisionTreeClassifier(criterion='gini',max_depth=5)\n",
        "Ade=Ad.fit(X,y)"
      ],
      "execution_count": null,
      "outputs": []
    },
    {
      "cell_type": "markdown",
      "metadata": {
        "id": "LSstHtxyvwiU"
      },
      "source": [
        "## Muestre árbol obtenido en forma de texto."
      ]
    },
    {
      "cell_type": "code",
      "metadata": {
        "id": "SfcKqf_CwrSp"
      },
      "source": [
        "r = export_text(Ad,feature_names=list(X.columns))     \n",
        "print(r)"
      ],
      "execution_count": null,
      "outputs": []
    },
    {
      "cell_type": "markdown",
      "metadata": {
        "id": "ALl23aaTvgm3"
      },
      "source": [
        "## Exporte el árbol obtenido a un fichero **titanic.pdf**\n",
        "Utilize la libreria graphviz"
      ]
    },
    {
      "cell_type": "code",
      "metadata": {
        "id": "lbgWkRWT0sY6"
      },
      "source": [
        "import graphviz \n",
        "dot_data = tree.export_graphviz(Ad, out_file=None)\n",
        "graph = graphviz.Source(dot_data)\n",
        "graph.render(\"Titanic\")"
      ],
      "execution_count": null,
      "outputs": []
    },
    {
      "cell_type": "markdown",
      "source": [
        "Al exportar el árbol a PDF mediante graphviz, podemos obtenerlo en un documento aparte y visualizarlo de una forma más clara que en la versión anterior, donde lo obtuvimos como texto. "
      ],
      "metadata": {
        "id": "12sdRiCiC5QZ"
      }
    },
    {
      "cell_type": "markdown",
      "metadata": {
        "id": "_JZCZYsIwAlP"
      },
      "source": [
        "## Muestre de forma enriquecida el árbol obtenido\n",
        "Utilize la libreria graphviz"
      ]
    },
    {
      "cell_type": "markdown",
      "source": [
        "La forma enriquecida nos permitirá visualizar el árbol con colores incluidos. "
      ],
      "metadata": {
        "id": "4P_rV7OUDLP1"
      }
    },
    {
      "cell_type": "code",
      "metadata": {
        "id": "nesxEUls1PFr"
      },
      "source": [
        "dot_data = tree.export_graphviz(Ad, out_file=None, \n",
        "                                feature_names=X.columns,\n",
        "                                class_names=['0','1'],\n",
        "                                filled=True, rounded=True,\n",
        "                                special_characters=True)\n",
        "graph = graphviz.Source(dot_data)\n",
        "graph"
      ],
      "execution_count": null,
      "outputs": []
    },
    {
      "cell_type": "code",
      "source": [
        "graph.render(\"Titanic_mejorado\")"
      ],
      "metadata": {
        "id": "bAbaBaMVAbV5"
      },
      "execution_count": null,
      "outputs": []
    },
    {
      "cell_type": "markdown",
      "source": [
        "Así, lo guardamos en un archivo PDF aparte del que ya teníamos antes. "
      ],
      "metadata": {
        "id": "4hRG44ARDUl5"
      }
    },
    {
      "cell_type": "markdown",
      "metadata": {
        "id": "YNShCpe2xv3Y"
      },
      "source": [
        "## ¿Que característas son las más influyentes o decisivas?"
      ]
    },
    {
      "cell_type": "code",
      "metadata": {
        "id": "uVh7iayPx78J"
      },
      "source": [
        "l=list(zip(list(X.columns),Ad.feature_importances_))\n",
        "print(l)"
      ],
      "execution_count": null,
      "outputs": []
    },
    {
      "cell_type": "markdown",
      "source": [
        "Con la creación de esta lista, podemos comprobar que, de nuestras tres variables independientes, la clase en que viajaban los pasajeros sería la más determinante para su supervivencia, ya que el valor del parámetro es el mayor. Por su parte, la menos relevante de las tres sería la edad. "
      ],
      "metadata": {
        "id": "O22pY1s0DcMY"
      }
    },
    {
      "cell_type": "markdown",
      "metadata": {
        "id": "CgfWp0MWz1og"
      },
      "source": [
        "## Realiza alguna inferencia.\n",
        "Que propone para las filas 5 y 80 del Titanic.csv"
      ]
    },
    {
      "cell_type": "markdown",
      "source": [
        "Creamos un *data frame* con esas observaciones:"
      ],
      "metadata": {
        "id": "KITptFWsELJK"
      }
    },
    {
      "cell_type": "code",
      "metadata": {
        "id": "KtkKlHRM1fzI"
      },
      "source": [
        "X.iloc[[5,80]]"
      ],
      "execution_count": null,
      "outputs": []
    },
    {
      "cell_type": "markdown",
      "source": [
        "Lo convertimos en vector y predecimos:"
      ],
      "metadata": {
        "id": "pT9AP5RZESAD"
      }
    },
    {
      "cell_type": "code",
      "source": [
        "Ad.predict(X.iloc[[5,80]].values)"
      ],
      "metadata": {
        "id": "_dni-t5BBMvi"
      },
      "execution_count": null,
      "outputs": []
    },
    {
      "cell_type": "markdown",
      "source": [
        "**NOTA:** me da error y no entiendo bien el motivo."
      ],
      "metadata": {
        "id": "HUiNLoATEWZE"
      }
    }
  ]
}